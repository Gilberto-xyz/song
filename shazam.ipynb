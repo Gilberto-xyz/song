{
 "cells": [
  {
   "cell_type": "markdown",
   "metadata": {},
   "source": [
    "# Dataset de Shazam\n",
    "## Shazam Top 200 Global Chart_ The most Shazamed tracks in the world 01-11-2021"
   ]
  },
  {
   "cell_type": "code",
   "execution_count": 7,
   "metadata": {},
   "outputs": [],
   "source": [
    "import pandas as pd"
   ]
  },
  {
   "cell_type": "code",
   "execution_count": 8,
   "metadata": {},
   "outputs": [],
   "source": [
    "data = pd.read_csv('shazamT200.csv')"
   ]
  },
  {
   "cell_type": "code",
   "execution_count": 9,
   "metadata": {},
   "outputs": [
    {
     "data": {
      "text/html": [
       "<div>\n",
       "<style scoped>\n",
       "    .dataframe tbody tr th:only-of-type {\n",
       "        vertical-align: middle;\n",
       "    }\n",
       "\n",
       "    .dataframe tbody tr th {\n",
       "        vertical-align: top;\n",
       "    }\n",
       "\n",
       "    .dataframe thead th {\n",
       "        text-align: right;\n",
       "    }\n",
       "</style>\n",
       "<table border=\"1\" class=\"dataframe\">\n",
       "  <thead>\n",
       "    <tr style=\"text-align: right;\">\n",
       "      <th></th>\n",
       "      <th>Rank</th>\n",
       "      <th>Title</th>\n",
       "      <th>Artist</th>\n",
       "    </tr>\n",
       "  </thead>\n",
       "  <tbody>\n",
       "    <tr>\n",
       "      <th>0</th>\n",
       "      <td>1</td>\n",
       "      <td>love nwantiti [Remix]</td>\n",
       "      <td>CKay Feat. Axel &amp; Dj Yo!</td>\n",
       "    </tr>\n",
       "    <tr>\n",
       "      <th>1</th>\n",
       "      <td>2</td>\n",
       "      <td>Cold Heart (PNAU Remix)</td>\n",
       "      <td>Elton John &amp; Dua Lipa</td>\n",
       "    </tr>\n",
       "    <tr>\n",
       "      <th>2</th>\n",
       "      <td>3</td>\n",
       "      <td>Pepas</td>\n",
       "      <td>Farruko</td>\n",
       "    </tr>\n",
       "    <tr>\n",
       "      <th>3</th>\n",
       "      <td>4</td>\n",
       "      <td>Easy On Me</td>\n",
       "      <td>Adele</td>\n",
       "    </tr>\n",
       "    <tr>\n",
       "      <th>4</th>\n",
       "      <td>5</td>\n",
       "      <td>INDUSTRY BABY</td>\n",
       "      <td>Lil Nas X &amp; Jack Harlow</td>\n",
       "    </tr>\n",
       "    <tr>\n",
       "      <th>...</th>\n",
       "      <td>...</td>\n",
       "      <td>...</td>\n",
       "      <td>...</td>\n",
       "    </tr>\n",
       "    <tr>\n",
       "      <th>195</th>\n",
       "      <td>196</td>\n",
       "      <td>Don't Wait Up</td>\n",
       "      <td>Shakira</td>\n",
       "    </tr>\n",
       "    <tr>\n",
       "      <th>196</th>\n",
       "      <td>197</td>\n",
       "      <td>Добрый я</td>\n",
       "      <td>S.O.U.L. &amp; Руслан Добрый</td>\n",
       "    </tr>\n",
       "    <tr>\n",
       "      <th>197</th>\n",
       "      <td>198</td>\n",
       "      <td>If You Really Love Me (How Will I Know)</td>\n",
       "      <td>David Guetta, MistaJam &amp; John Newman</td>\n",
       "    </tr>\n",
       "    <tr>\n",
       "      <th>198</th>\n",
       "      <td>199</td>\n",
       "      <td>Stan</td>\n",
       "      <td>Eminem Feat. Dido</td>\n",
       "    </tr>\n",
       "    <tr>\n",
       "      <th>199</th>\n",
       "      <td>200</td>\n",
       "      <td>Adiwele</td>\n",
       "      <td>Young Stunna Feat. Kabza De Small</td>\n",
       "    </tr>\n",
       "  </tbody>\n",
       "</table>\n",
       "<p>200 rows × 3 columns</p>\n",
       "</div>"
      ],
      "text/plain": [
       "     Rank                                    Title  \\\n",
       "0       1                    love nwantiti [Remix]   \n",
       "1       2                  Cold Heart (PNAU Remix)   \n",
       "2       3                                    Pepas   \n",
       "3       4                               Easy On Me   \n",
       "4       5                            INDUSTRY BABY   \n",
       "..    ...                                      ...   \n",
       "195   196                            Don't Wait Up   \n",
       "196   197                                 Добрый я   \n",
       "197   198  If You Really Love Me (How Will I Know)   \n",
       "198   199                                     Stan   \n",
       "199   200                                  Adiwele   \n",
       "\n",
       "                                   Artist  \n",
       "0                CKay Feat. Axel & Dj Yo!  \n",
       "1                   Elton John & Dua Lipa  \n",
       "2                                 Farruko  \n",
       "3                                   Adele  \n",
       "4                 Lil Nas X & Jack Harlow  \n",
       "..                                    ...  \n",
       "195                               Shakira  \n",
       "196              S.O.U.L. & Руслан Добрый  \n",
       "197  David Guetta, MistaJam & John Newman  \n",
       "198                     Eminem Feat. Dido  \n",
       "199     Young Stunna Feat. Kabza De Small  \n",
       "\n",
       "[200 rows x 3 columns]"
      ]
     },
     "execution_count": 9,
     "metadata": {},
     "output_type": "execute_result"
    }
   ],
   "source": [
    "resumen2021 = data[['Rank','Title','Artist']]\n",
    "resumen2021.sort_values(by=['Rank'], ascending=True)"
   ]
  }
 ],
 "metadata": {
  "interpreter": {
   "hash": "ac2359d16f2b58e60c136fe491418667a040b9a86de687b6c59ee7e150211c1f"
  },
  "kernelspec": {
   "display_name": "Python 3.9.7 64-bit ('numpy': conda)",
   "name": "python3"
  },
  "language_info": {
   "codemirror_mode": {
    "name": "ipython",
    "version": 3
   },
   "file_extension": ".py",
   "mimetype": "text/x-python",
   "name": "python",
   "nbconvert_exporter": "python",
   "pygments_lexer": "ipython3",
   "version": "3.9.7"
  },
  "orig_nbformat": 4
 },
 "nbformat": 4,
 "nbformat_minor": 2
}
